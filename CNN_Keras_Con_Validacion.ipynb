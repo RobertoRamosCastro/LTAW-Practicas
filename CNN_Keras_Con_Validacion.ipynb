{
  "nbformat": 4,
  "nbformat_minor": 0,
  "metadata": {
    "colab": {
      "provenance": [],
      "authorship_tag": "ABX9TyMDOY/PiiUqLFHvq3WNc9Vg",
      "include_colab_link": true
    },
    "kernelspec": {
      "name": "python3",
      "display_name": "Python 3"
    },
    "language_info": {
      "name": "python"
    },
    "accelerator": "GPU",
    "gpuClass": "standard",
    "widgets": {
      "application/vnd.jupyter.widget-state+json": {
        "7fd2e3fc7f4b40a0b2ec2ba1fb23b38f": {
          "model_module": "@jupyter-widgets/controls",
          "model_name": "HBoxModel",
          "model_module_version": "1.5.0",
          "state": {
            "_dom_classes": [],
            "_model_module": "@jupyter-widgets/controls",
            "_model_module_version": "1.5.0",
            "_model_name": "HBoxModel",
            "_view_count": null,
            "_view_module": "@jupyter-widgets/controls",
            "_view_module_version": "1.5.0",
            "_view_name": "HBoxView",
            "box_style": "",
            "children": [
              "IPY_MODEL_0a07586503334c819b0ca635c6b6a3d7",
              "IPY_MODEL_94f7c414bd744df0b8cb3a8c53bfe2e9",
              "IPY_MODEL_d96ea00d9e60423db6e1d55cd6ddb58e"
            ],
            "layout": "IPY_MODEL_58b8e38e146f41fe8fd2bef1f41e39dc"
          }
        },
        "0a07586503334c819b0ca635c6b6a3d7": {
          "model_module": "@jupyter-widgets/controls",
          "model_name": "HTMLModel",
          "model_module_version": "1.5.0",
          "state": {
            "_dom_classes": [],
            "_model_module": "@jupyter-widgets/controls",
            "_model_module_version": "1.5.0",
            "_model_name": "HTMLModel",
            "_view_count": null,
            "_view_module": "@jupyter-widgets/controls",
            "_view_module_version": "1.5.0",
            "_view_name": "HTMLView",
            "description": "",
            "description_tooltip": null,
            "layout": "IPY_MODEL_73ac1b5b732346c7ba5f90a6f8757afd",
            "placeholder": "​",
            "style": "IPY_MODEL_fc49b18bc9774a7495d5372e5bd1a0e3",
            "value": "Dl Completed...: 100%"
          }
        },
        "94f7c414bd744df0b8cb3a8c53bfe2e9": {
          "model_module": "@jupyter-widgets/controls",
          "model_name": "FloatProgressModel",
          "model_module_version": "1.5.0",
          "state": {
            "_dom_classes": [],
            "_model_module": "@jupyter-widgets/controls",
            "_model_module_version": "1.5.0",
            "_model_name": "FloatProgressModel",
            "_view_count": null,
            "_view_module": "@jupyter-widgets/controls",
            "_view_module_version": "1.5.0",
            "_view_name": "ProgressView",
            "bar_style": "success",
            "description": "",
            "description_tooltip": null,
            "layout": "IPY_MODEL_926c24375dea4edc8bc2d64fb7066268",
            "max": 5,
            "min": 0,
            "orientation": "horizontal",
            "style": "IPY_MODEL_8daaa1d76c034ab882a9b3e8163ffbce",
            "value": 5
          }
        },
        "d96ea00d9e60423db6e1d55cd6ddb58e": {
          "model_module": "@jupyter-widgets/controls",
          "model_name": "HTMLModel",
          "model_module_version": "1.5.0",
          "state": {
            "_dom_classes": [],
            "_model_module": "@jupyter-widgets/controls",
            "_model_module_version": "1.5.0",
            "_model_name": "HTMLModel",
            "_view_count": null,
            "_view_module": "@jupyter-widgets/controls",
            "_view_module_version": "1.5.0",
            "_view_name": "HTMLView",
            "description": "",
            "description_tooltip": null,
            "layout": "IPY_MODEL_54c5e46d5eda44aea362ea7f883ee0bc",
            "placeholder": "​",
            "style": "IPY_MODEL_06920f1ecef34cde8c1ca1afc72195da",
            "value": " 5/5 [00:00&lt;00:00,  7.89 file/s]"
          }
        },
        "58b8e38e146f41fe8fd2bef1f41e39dc": {
          "model_module": "@jupyter-widgets/base",
          "model_name": "LayoutModel",
          "model_module_version": "1.2.0",
          "state": {
            "_model_module": "@jupyter-widgets/base",
            "_model_module_version": "1.2.0",
            "_model_name": "LayoutModel",
            "_view_count": null,
            "_view_module": "@jupyter-widgets/base",
            "_view_module_version": "1.2.0",
            "_view_name": "LayoutView",
            "align_content": null,
            "align_items": null,
            "align_self": null,
            "border": null,
            "bottom": null,
            "display": null,
            "flex": null,
            "flex_flow": null,
            "grid_area": null,
            "grid_auto_columns": null,
            "grid_auto_flow": null,
            "grid_auto_rows": null,
            "grid_column": null,
            "grid_gap": null,
            "grid_row": null,
            "grid_template_areas": null,
            "grid_template_columns": null,
            "grid_template_rows": null,
            "height": null,
            "justify_content": null,
            "justify_items": null,
            "left": null,
            "margin": null,
            "max_height": null,
            "max_width": null,
            "min_height": null,
            "min_width": null,
            "object_fit": null,
            "object_position": null,
            "order": null,
            "overflow": null,
            "overflow_x": null,
            "overflow_y": null,
            "padding": null,
            "right": null,
            "top": null,
            "visibility": null,
            "width": null
          }
        },
        "73ac1b5b732346c7ba5f90a6f8757afd": {
          "model_module": "@jupyter-widgets/base",
          "model_name": "LayoutModel",
          "model_module_version": "1.2.0",
          "state": {
            "_model_module": "@jupyter-widgets/base",
            "_model_module_version": "1.2.0",
            "_model_name": "LayoutModel",
            "_view_count": null,
            "_view_module": "@jupyter-widgets/base",
            "_view_module_version": "1.2.0",
            "_view_name": "LayoutView",
            "align_content": null,
            "align_items": null,
            "align_self": null,
            "border": null,
            "bottom": null,
            "display": null,
            "flex": null,
            "flex_flow": null,
            "grid_area": null,
            "grid_auto_columns": null,
            "grid_auto_flow": null,
            "grid_auto_rows": null,
            "grid_column": null,
            "grid_gap": null,
            "grid_row": null,
            "grid_template_areas": null,
            "grid_template_columns": null,
            "grid_template_rows": null,
            "height": null,
            "justify_content": null,
            "justify_items": null,
            "left": null,
            "margin": null,
            "max_height": null,
            "max_width": null,
            "min_height": null,
            "min_width": null,
            "object_fit": null,
            "object_position": null,
            "order": null,
            "overflow": null,
            "overflow_x": null,
            "overflow_y": null,
            "padding": null,
            "right": null,
            "top": null,
            "visibility": null,
            "width": null
          }
        },
        "fc49b18bc9774a7495d5372e5bd1a0e3": {
          "model_module": "@jupyter-widgets/controls",
          "model_name": "DescriptionStyleModel",
          "model_module_version": "1.5.0",
          "state": {
            "_model_module": "@jupyter-widgets/controls",
            "_model_module_version": "1.5.0",
            "_model_name": "DescriptionStyleModel",
            "_view_count": null,
            "_view_module": "@jupyter-widgets/base",
            "_view_module_version": "1.2.0",
            "_view_name": "StyleView",
            "description_width": ""
          }
        },
        "926c24375dea4edc8bc2d64fb7066268": {
          "model_module": "@jupyter-widgets/base",
          "model_name": "LayoutModel",
          "model_module_version": "1.2.0",
          "state": {
            "_model_module": "@jupyter-widgets/base",
            "_model_module_version": "1.2.0",
            "_model_name": "LayoutModel",
            "_view_count": null,
            "_view_module": "@jupyter-widgets/base",
            "_view_module_version": "1.2.0",
            "_view_name": "LayoutView",
            "align_content": null,
            "align_items": null,
            "align_self": null,
            "border": null,
            "bottom": null,
            "display": null,
            "flex": null,
            "flex_flow": null,
            "grid_area": null,
            "grid_auto_columns": null,
            "grid_auto_flow": null,
            "grid_auto_rows": null,
            "grid_column": null,
            "grid_gap": null,
            "grid_row": null,
            "grid_template_areas": null,
            "grid_template_columns": null,
            "grid_template_rows": null,
            "height": null,
            "justify_content": null,
            "justify_items": null,
            "left": null,
            "margin": null,
            "max_height": null,
            "max_width": null,
            "min_height": null,
            "min_width": null,
            "object_fit": null,
            "object_position": null,
            "order": null,
            "overflow": null,
            "overflow_x": null,
            "overflow_y": null,
            "padding": null,
            "right": null,
            "top": null,
            "visibility": null,
            "width": null
          }
        },
        "8daaa1d76c034ab882a9b3e8163ffbce": {
          "model_module": "@jupyter-widgets/controls",
          "model_name": "ProgressStyleModel",
          "model_module_version": "1.5.0",
          "state": {
            "_model_module": "@jupyter-widgets/controls",
            "_model_module_version": "1.5.0",
            "_model_name": "ProgressStyleModel",
            "_view_count": null,
            "_view_module": "@jupyter-widgets/base",
            "_view_module_version": "1.2.0",
            "_view_name": "StyleView",
            "bar_color": null,
            "description_width": ""
          }
        },
        "54c5e46d5eda44aea362ea7f883ee0bc": {
          "model_module": "@jupyter-widgets/base",
          "model_name": "LayoutModel",
          "model_module_version": "1.2.0",
          "state": {
            "_model_module": "@jupyter-widgets/base",
            "_model_module_version": "1.2.0",
            "_model_name": "LayoutModel",
            "_view_count": null,
            "_view_module": "@jupyter-widgets/base",
            "_view_module_version": "1.2.0",
            "_view_name": "LayoutView",
            "align_content": null,
            "align_items": null,
            "align_self": null,
            "border": null,
            "bottom": null,
            "display": null,
            "flex": null,
            "flex_flow": null,
            "grid_area": null,
            "grid_auto_columns": null,
            "grid_auto_flow": null,
            "grid_auto_rows": null,
            "grid_column": null,
            "grid_gap": null,
            "grid_row": null,
            "grid_template_areas": null,
            "grid_template_columns": null,
            "grid_template_rows": null,
            "height": null,
            "justify_content": null,
            "justify_items": null,
            "left": null,
            "margin": null,
            "max_height": null,
            "max_width": null,
            "min_height": null,
            "min_width": null,
            "object_fit": null,
            "object_position": null,
            "order": null,
            "overflow": null,
            "overflow_x": null,
            "overflow_y": null,
            "padding": null,
            "right": null,
            "top": null,
            "visibility": null,
            "width": null
          }
        },
        "06920f1ecef34cde8c1ca1afc72195da": {
          "model_module": "@jupyter-widgets/controls",
          "model_name": "DescriptionStyleModel",
          "model_module_version": "1.5.0",
          "state": {
            "_model_module": "@jupyter-widgets/controls",
            "_model_module_version": "1.5.0",
            "_model_name": "DescriptionStyleModel",
            "_view_count": null,
            "_view_module": "@jupyter-widgets/base",
            "_view_module_version": "1.2.0",
            "_view_name": "StyleView",
            "description_width": ""
          }
        }
      }
    }
  },
  "cells": [
    {
      "cell_type": "markdown",
      "metadata": {
        "id": "view-in-github",
        "colab_type": "text"
      },
      "source": [
        "<a href=\"https://colab.research.google.com/github/RobertoRamosCastro/LTAW-Practicas/blob/main/CNN_Keras_Con_Validacion.ipynb\" target=\"_parent\"><img src=\"https://colab.research.google.com/assets/colab-badge.svg\" alt=\"Open In Colab\"/></a>"
      ]
    },
    {
      "cell_type": "code",
      "source": [
        "import tensorflow as tf\n",
        "import tensorflow_datasets as tfds\n",
        "from keras.utils import split_dataset\n",
        "import numpy as np"
      ],
      "metadata": {
        "id": "9WJxt_L2X926"
      },
      "execution_count": null,
      "outputs": []
    },
    {
      "cell_type": "code",
      "source": [
        "data, metadata = tfds.load('mnist', as_supervised=True, with_info=True)"
      ],
      "metadata": {
        "id": "OLON7dlVDyMr",
        "colab": {
          "base_uri": "https://localhost:8080/",
          "height": 84,
          "referenced_widgets": [
            "7fd2e3fc7f4b40a0b2ec2ba1fb23b38f",
            "0a07586503334c819b0ca635c6b6a3d7",
            "94f7c414bd744df0b8cb3a8c53bfe2e9",
            "d96ea00d9e60423db6e1d55cd6ddb58e",
            "58b8e38e146f41fe8fd2bef1f41e39dc",
            "73ac1b5b732346c7ba5f90a6f8757afd",
            "fc49b18bc9774a7495d5372e5bd1a0e3",
            "926c24375dea4edc8bc2d64fb7066268",
            "8daaa1d76c034ab882a9b3e8163ffbce",
            "54c5e46d5eda44aea362ea7f883ee0bc",
            "06920f1ecef34cde8c1ca1afc72195da"
          ]
        },
        "outputId": "b6ee65f8-97a4-43a9-e1a2-720ea90b5692"
      },
      "execution_count": null,
      "outputs": [
        {
          "output_type": "stream",
          "name": "stdout",
          "text": [
            "Downloading and preparing dataset Unknown size (download: Unknown size, generated: Unknown size, total: Unknown size) to /root/tensorflow_datasets/mnist/3.0.1...\n"
          ]
        },
        {
          "output_type": "display_data",
          "data": {
            "text/plain": [
              "Dl Completed...:   0%|          | 0/5 [00:00<?, ? file/s]"
            ],
            "application/vnd.jupyter.widget-view+json": {
              "version_major": 2,
              "version_minor": 0,
              "model_id": "7fd2e3fc7f4b40a0b2ec2ba1fb23b38f"
            }
          },
          "metadata": {}
        },
        {
          "output_type": "stream",
          "name": "stdout",
          "text": [
            "Dataset mnist downloaded and prepared to /root/tensorflow_datasets/mnist/3.0.1. Subsequent calls will reuse this data.\n"
          ]
        }
      ]
    },
    {
      "cell_type": "code",
      "source": [
        "train, test = data['train'], data['test']"
      ],
      "metadata": {
        "id": "EBrIXWbXElBM"
      },
      "execution_count": null,
      "outputs": []
    },
    {
      "cell_type": "code",
      "source": [
        "train, test"
      ],
      "metadata": {
        "colab": {
          "base_uri": "https://localhost:8080/"
        },
        "id": "TV-_H-HDExBf",
        "outputId": "e57bc383-96b3-4d7c-b1c3-22311c2ac1c0"
      },
      "execution_count": null,
      "outputs": [
        {
          "output_type": "execute_result",
          "data": {
            "text/plain": [
              "(<PrefetchDataset element_spec=(TensorSpec(shape=(28, 28, 1), dtype=tf.uint8, name=None), TensorSpec(shape=(), dtype=tf.int64, name=None))>,\n",
              " <PrefetchDataset element_spec=(TensorSpec(shape=(28, 28, 1), dtype=tf.uint8, name=None), TensorSpec(shape=(), dtype=tf.int64, name=None))>)"
            ]
          },
          "metadata": {},
          "execution_count": 9
        }
      ]
    },
    {
      "cell_type": "code",
      "source": [
        "# Separar conjunto de datos de entrenamiento\n",
        "train_ds, val_ds = split_dataset(train, left_size=0.8)"
      ],
      "metadata": {
        "id": "YFF289eaM12D"
      },
      "execution_count": null,
      "outputs": []
    },
    {
      "cell_type": "code",
      "source": [
        "num_examples_train = int(train_ds.cardinality())\n",
        "num_examples_val = int(val_ds.cardinality())\n",
        "num_examples_train, num_examples_val"
      ],
      "metadata": {
        "colab": {
          "base_uri": "https://localhost:8080/"
        },
        "id": "KdbtKlDNN4bd",
        "outputId": "e88323aa-936b-4878-c173-8b39bd014462"
      },
      "execution_count": null,
      "outputs": [
        {
          "output_type": "execute_result",
          "data": {
            "text/plain": [
              "(48000, 12000)"
            ]
          },
          "metadata": {},
          "execution_count": 6
        }
      ]
    },
    {
      "cell_type": "code",
      "source": [
        "train_ds, val_ds"
      ],
      "metadata": {
        "colab": {
          "base_uri": "https://localhost:8080/"
        },
        "id": "nRmmtHr3OCR2",
        "outputId": "5cb533de-ef5b-486c-afe3-b793719c4664"
      },
      "execution_count": null,
      "outputs": [
        {
          "output_type": "execute_result",
          "data": {
            "text/plain": [
              "(<PrefetchDataset element_spec=(TensorSpec(shape=(28, 28, 1), dtype=tf.uint8, name=None), TensorSpec(shape=(), dtype=tf.int64, name=None))>,\n",
              " <PrefetchDataset element_spec=(TensorSpec(shape=(28, 28, 1), dtype=tf.uint8, name=None), TensorSpec(shape=(), dtype=tf.int64, name=None))>)"
            ]
          },
          "metadata": {},
          "execution_count": 7
        }
      ]
    },
    {
      "cell_type": "code",
      "source": [
        "metadata"
      ],
      "metadata": {
        "colab": {
          "base_uri": "https://localhost:8080/"
        },
        "id": "xmJwqWX_chhi",
        "outputId": "f56439f4-1ee8-47d7-d54e-16061c4f1d1e"
      },
      "execution_count": null,
      "outputs": [
        {
          "output_type": "execute_result",
          "data": {
            "text/plain": [
              "tfds.core.DatasetInfo(\n",
              "    name='mnist',\n",
              "    full_name='mnist/3.0.1',\n",
              "    description=\"\"\"\n",
              "    The MNIST database of handwritten digits.\n",
              "    \"\"\",\n",
              "    homepage='http://yann.lecun.com/exdb/mnist/',\n",
              "    data_path='/root/tensorflow_datasets/mnist/3.0.1.incompleteOZJNX0',\n",
              "    file_format=tfrecord,\n",
              "    download_size=11.06 MiB,\n",
              "    dataset_size=21.00 MiB,\n",
              "    features=FeaturesDict({\n",
              "        'image': Image(shape=(28, 28, 1), dtype=uint8),\n",
              "        'label': ClassLabel(shape=(), dtype=int64, num_classes=10),\n",
              "    }),\n",
              "    supervised_keys=('image', 'label'),\n",
              "    disable_shuffling=False,\n",
              "    splits={\n",
              "        'test': <SplitInfo num_examples=10000, num_shards=1>,\n",
              "        'train': <SplitInfo num_examples=60000, num_shards=1>,\n",
              "    },\n",
              "    citation=\"\"\"@article{lecun2010mnist,\n",
              "      title={MNIST handwritten digit database},\n",
              "      author={LeCun, Yann and Cortes, Corinna and Burges, CJ},\n",
              "      journal={ATT Labs [Online]. Available: http://yann.lecun.com/exdb/mnist},\n",
              "      volume={2},\n",
              "      year={2010}\n",
              "    }\"\"\",\n",
              ")"
            ]
          },
          "metadata": {},
          "execution_count": 8
        }
      ]
    },
    {
      "cell_type": "code",
      "source": [
        "class_names = metadata.features['label'].names\n",
        "class_names"
      ],
      "metadata": {
        "colab": {
          "base_uri": "https://localhost:8080/"
        },
        "id": "SdyLIShzE9jM",
        "outputId": "7de70ef1-e5eb-4409-a8f0-bf700d94c2c4"
      },
      "execution_count": null,
      "outputs": [
        {
          "output_type": "execute_result",
          "data": {
            "text/plain": [
              "['0', '1', '2', '3', '4', '5', '6', '7', '8', '9']"
            ]
          },
          "metadata": {},
          "execution_count": 10
        }
      ]
    },
    {
      "cell_type": "code",
      "source": [
        "# Visualizar los datos\n",
        "\n",
        "import matplotlib.pyplot as plt\n",
        "\n",
        "plt.figure(figsize=(10,10))\n",
        "for i, (imagen, etiqueta) in enumerate(train_ds.take(15)):\n",
        "  imagen = imagen.numpy()\n",
        "  plt.subplot(5,5,i+1)\n",
        "  plt.xticks([])\n",
        "  plt.yticks([])\n",
        "  plt.grid(False)\n",
        "  plt.imshow(imagen, cmap=plt.cm.binary)\n",
        "  plt.xlabel(class_names[etiqueta])\n",
        "plt.show"
      ],
      "metadata": {
        "colab": {
          "base_uri": "https://localhost:8080/",
          "height": 381
        },
        "id": "7sdpVavilKGu",
        "outputId": "02dd18e5-2937-471f-b116-1f928759503b"
      },
      "execution_count": null,
      "outputs": [
        {
          "output_type": "execute_result",
          "data": {
            "text/plain": [
              "<function matplotlib.pyplot.show(close=None, block=None)>"
            ]
          },
          "metadata": {},
          "execution_count": 11
        },
        {
          "output_type": "display_data",
          "data": {
            "text/plain": [
              "<Figure size 720x720 with 15 Axes>"
            ],
            "image/png": "[encoded data removed]"
          },
          "metadata": {}
        }
      ]
    },
    {
      "cell_type": "code",
      "source": [
        "# Normalizar la data\n",
        "\n",
        "def normalize(imagenes, etiquetas):\n",
        "  imagenes = tf.cast(imagenes, dtype=tf.float32)\n",
        "  imagenes /= 255\n",
        "  return imagenes, etiquetas\n"
      ],
      "metadata": {
        "id": "TtRyCDRxFHzJ"
      },
      "execution_count": null,
      "outputs": []
    },
    {
      "cell_type": "code",
      "source": [
        "# Preprocesamiento de los datos\n",
        "\n",
        "train_ds = train_ds.map(normalize)\n",
        "val_ds = val_ds.map(normalize)\n",
        "\n",
        "# Cargarlo en la memoria de cache\n",
        "train_ds = train_ds.cache()\n",
        "val_ds = val_ds.cache()\n",
        "\n",
        "BATCH_SIZE = 32\n",
        "# Datos de entrenamiento\n",
        "train_ds = train_ds.shuffle(num_examples_train)\n",
        "train_ds = train_ds.batch(BATCH_SIZE)\n",
        "train_ds = train_ds.prefetch(tf.data.experimental.AUTOTUNE)\n",
        "\n",
        "# Datos de validacion\n",
        "val_ds = val_ds.batch(BATCH_SIZE)\n",
        "val_ds = val_ds.prefetch(tf.data.experimental.AUTOTUNE)"
      ],
      "metadata": {
        "id": "5rPiwlcLYG-4"
      },
      "execution_count": null,
      "outputs": []
    },
    {
      "cell_type": "code",
      "source": [
        "train_ds, val_ds"
      ],
      "metadata": {
        "colab": {
          "base_uri": "https://localhost:8080/"
        },
        "id": "YEagrdvokJvs",
        "outputId": "5d3554e7-40d6-4f87-f985-ff605a729886"
      },
      "execution_count": null,
      "outputs": [
        {
          "output_type": "execute_result",
          "data": {
            "text/plain": [
              "(<PrefetchDataset element_spec=(TensorSpec(shape=(None, 28, 28, 1), dtype=tf.float32, name=None), TensorSpec(shape=(None,), dtype=tf.int64, name=None))>,\n",
              " <PrefetchDataset element_spec=(TensorSpec(shape=(None, 28, 28, 1), dtype=tf.float32, name=None), TensorSpec(shape=(None,), dtype=tf.int64, name=None))>)"
            ]
          },
          "metadata": {},
          "execution_count": 14
        }
      ]
    },
    {
      "cell_type": "markdown",
      "source": [
        "import matplotlib.pyplot as plt\n",
        "\n",
        "for imagen, lbl, in train.take(1):\n",
        "  break\n",
        "  imagen = imagen.numpy().reshape((28,28)) # Redimensionamos\n",
        "\n",
        "# Dibujar la imagen\n",
        "plt.figure()\n",
        "plt.imshow(imagen)\n",
        "plt.colorbar()\n",
        "plt.grid(False)\n",
        "plt.show()"
      ],
      "metadata": {
        "id": "Ciqx0ipoYL1l"
      }
    },
    {
      "cell_type": "markdown",
      "source": [
        "plt.figure(figsize=(10,10))\n",
        "for i, (imagen, etiqueta) in enumerate(train.take(1)):\n",
        "  imagen = imagen.numpy()\n",
        "  plt.subplot(5,5,i+1)\n",
        "  plt.xticks([])\n",
        "  plt.yticks([])\n",
        "  plt.grid(False)\n",
        "  plt.imshow(imagen, cmap=plt.cm.binary)\n",
        "  plt.xlabel(class_names[etiqueta])\n",
        "plt.show"
      ],
      "metadata": {
        "id": "Y9tTHOI4YOOF"
      }
    },
    {
      "cell_type": "code",
      "source": [
        "# Comprobar el tramaño de las imagenes del conjunto de entrenamiento\n",
        "ds = tfds.load('mnist', split='train')\n",
        "ds = ds.take(1)\n",
        "\n",
        "for example in ds:\n",
        "  print(list(example.keys()))\n",
        "  image = example['image']\n",
        "  tamano_entrada = image.shape\n",
        "  label = example['label']\n",
        "  print(tamano_entrada, label)"
      ],
      "metadata": {
        "colab": {
          "base_uri": "https://localhost:8080/"
        },
        "id": "25z1qNFlZBXv",
        "outputId": "197da8f1-c701-482c-f959-c312680dd4f5"
      },
      "execution_count": null,
      "outputs": [
        {
          "output_type": "stream",
          "name": "stdout",
          "text": [
            "['image', 'label']\n",
            "(28, 28, 1) tf.Tensor(4, shape=(), dtype=int64)\n"
          ]
        }
      ]
    },
    {
      "cell_type": "code",
      "source": [
        "# Definir la arquitectura de nuestra CNN\n",
        "from keras.layers.merging.add import add\n",
        "from keras.models import Sequential\n",
        "from keras.layers import Convolution2D, MaxPooling2D, Dense, Flatten, Dropout\n",
        "\n",
        "num_clases = len(class_names)\n",
        "\n",
        "model = Sequential()\n",
        "\n",
        "# Hidden layer 1\n",
        "model.add(Convolution2D(32, (3,3), activation='relu', input_shape=(28,28,1)))\n",
        "model.add(MaxPooling2D(pool_size=(2,2)))\n",
        "\n",
        "# Hidden layer 2\n",
        "model.add(Convolution2D(64, (3,3), activation='relu'))\n",
        "model.add(MaxPooling2D(pool_size=(2,2)))\n",
        "\n",
        "model.add(Flatten())\n",
        "model.add(Dense(128, activation='relu'))\n",
        "model.add(Dropout(0.3))\n",
        "model.add(Dense(num_clases, activation='softmax'))\n",
        "\n",
        "model.summary()"
      ],
      "metadata": {
        "colab": {
          "base_uri": "https://localhost:8080/"
        },
        "id": "vDzRDJtGCnFU",
        "outputId": "70f6927e-014f-4348-d0f8-d9b23b448c55"
      },
      "execution_count": null,
      "outputs": [
        {
          "output_type": "stream",
          "name": "stdout",
          "text": [
            "Model: \"sequential\"\n",
            "_________________________________________________________________\n",
            " Layer (type)                Output Shape              Param #   \n",
            "=================================================================\n",
            " conv2d (Conv2D)             (None, 26, 26, 32)        320       \n",
            "                                                                 \n",
            " max_pooling2d (MaxPooling2D  (None, 13, 13, 32)       0         \n",
            " )                                                               \n",
            "                                                                 \n",
            " conv2d_1 (Conv2D)           (None, 11, 11, 64)        18496     \n",
            "                                                                 \n",
            " max_pooling2d_1 (MaxPooling  (None, 5, 5, 64)         0         \n",
            " 2D)                                                             \n",
            "                                                                 \n",
            " flatten (Flatten)           (None, 1600)              0         \n",
            "                                                                 \n",
            " dense (Dense)               (None, 128)               204928    \n",
            "                                                                 \n",
            " dropout (Dropout)           (None, 128)               0         \n",
            "                                                                 \n",
            " dense_1 (Dense)             (None, 10)                1290      \n",
            "                                                                 \n",
            "=================================================================\n",
            "Total params: 225,034\n",
            "Trainable params: 225,034\n",
            "Non-trainable params: 0\n",
            "_________________________________________________________________\n"
          ]
        }
      ]
    },
    {
      "cell_type": "code",
      "source": [
        "# Definir modelo\n",
        "\n",
        "model.compile(optimizer='adam',\n",
        "              loss='sparse_categorical_crossentropy',\n",
        "              metrics=['accuracy'])"
      ],
      "metadata": {
        "id": "etSAoTqgErd1"
      },
      "execution_count": null,
      "outputs": []
    },
    {
      "cell_type": "code",
      "source": [
        "# Entrenar modelo\n",
        "\n",
        "num_epocas = 20\n",
        "\n",
        "history = model.fit(train_ds,\n",
        "          epochs=num_epocas,\n",
        "          batch_size=BATCH_SIZE,\n",
        "          validation_data=val_ds,\n",
        "          verbose=1)"
      ],
      "metadata": {
        "colab": {
          "base_uri": "https://localhost:8080/"
        },
        "id": "tQlgm-X5FlrK",
        "outputId": "77201767-2afc-498d-acf6-7c47a5af4822"
      },
      "execution_count": null,
      "outputs": [
        {
          "output_type": "stream",
          "name": "stdout",
          "text": [
            "Epoch 1/20\n",
            "1500/1500 [==============================] - 19s 5ms/step - loss: 0.1972 - accuracy: 0.9379 - val_loss: 0.0573 - val_accuracy: 0.9822\n",
            "Epoch 2/20\n",
            "1500/1500 [==============================] - 7s 5ms/step - loss: 0.0676 - accuracy: 0.9800 - val_loss: 0.0459 - val_accuracy: 0.9855\n",
            "Epoch 3/20\n",
            "1500/1500 [==============================] - 6s 4ms/step - loss: 0.0507 - accuracy: 0.9853 - val_loss: 0.0388 - val_accuracy: 0.9879\n",
            "Epoch 4/20\n",
            "1500/1500 [==============================] - 6s 4ms/step - loss: 0.0400 - accuracy: 0.9874 - val_loss: 0.0348 - val_accuracy: 0.9885\n",
            "Epoch 5/20\n",
            "1500/1500 [==============================] - 7s 5ms/step - loss: 0.0316 - accuracy: 0.9900 - val_loss: 0.0328 - val_accuracy: 0.9898\n",
            "Epoch 6/20\n",
            "1500/1500 [==============================] - 7s 5ms/step - loss: 0.0270 - accuracy: 0.9917 - val_loss: 0.0319 - val_accuracy: 0.9898\n",
            "Epoch 7/20\n",
            "1500/1500 [==============================] - 6s 4ms/step - loss: 0.0219 - accuracy: 0.9929 - val_loss: 0.0276 - val_accuracy: 0.9910\n",
            "Epoch 8/20\n",
            "1500/1500 [==============================] - 7s 5ms/step - loss: 0.0193 - accuracy: 0.9935 - val_loss: 0.0338 - val_accuracy: 0.9910\n",
            "Epoch 9/20\n",
            "1500/1500 [==============================] - 7s 4ms/step - loss: 0.0161 - accuracy: 0.9949 - val_loss: 0.0295 - val_accuracy: 0.9913\n",
            "Epoch 10/20\n",
            "1500/1500 [==============================] - 6s 4ms/step - loss: 0.0150 - accuracy: 0.9949 - val_loss: 0.0358 - val_accuracy: 0.9897\n",
            "Epoch 11/20\n",
            "1500/1500 [==============================] - 7s 5ms/step - loss: 0.0125 - accuracy: 0.9958 - val_loss: 0.0415 - val_accuracy: 0.9893\n",
            "Epoch 12/20\n",
            "1500/1500 [==============================] - 7s 5ms/step - loss: 0.0135 - accuracy: 0.9962 - val_loss: 0.0412 - val_accuracy: 0.9893\n",
            "Epoch 13/20\n",
            "1500/1500 [==============================] - 7s 4ms/step - loss: 0.0103 - accuracy: 0.9965 - val_loss: 0.0366 - val_accuracy: 0.9910\n",
            "Epoch 14/20\n",
            "1500/1500 [==============================] - 7s 5ms/step - loss: 0.0125 - accuracy: 0.9960 - val_loss: 0.0408 - val_accuracy: 0.9898\n",
            "Epoch 15/20\n",
            "1500/1500 [==============================] - 6s 4ms/step - loss: 0.0081 - accuracy: 0.9973 - val_loss: 0.0494 - val_accuracy: 0.9891\n",
            "Epoch 16/20\n",
            "1500/1500 [==============================] - 7s 5ms/step - loss: 0.0096 - accuracy: 0.9968 - val_loss: 0.0390 - val_accuracy: 0.9921\n",
            "Epoch 17/20\n",
            "1500/1500 [==============================] - 7s 5ms/step - loss: 0.0082 - accuracy: 0.9970 - val_loss: 0.0457 - val_accuracy: 0.9906\n",
            "Epoch 18/20\n",
            "1500/1500 [==============================] - 7s 5ms/step - loss: 0.0078 - accuracy: 0.9973 - val_loss: 0.0410 - val_accuracy: 0.9903\n",
            "Epoch 19/20\n",
            "1500/1500 [==============================] - 6s 4ms/step - loss: 0.0077 - accuracy: 0.9972 - val_loss: 0.0521 - val_accuracy: 0.9906\n",
            "Epoch 20/20\n",
            "1500/1500 [==============================] - 7s 5ms/step - loss: 0.0078 - accuracy: 0.9974 - val_loss: 0.0483 - val_accuracy: 0.9900\n"
          ]
        }
      ]
    },
    {
      "cell_type": "code",
      "source": [
        "# Graficar modelo\n",
        "\n",
        "loss = history.history['loss']\n",
        "accuracy = history.history['accuracy']\n",
        "val_loss = history.history['val_loss']\n",
        "val_accuracy = history.history['val_accuracy']\n",
        "\n",
        "plt.plot(accuracy, 'b-')\n",
        "plt.plot(val_accuracy, 'r-')\n",
        "plt.title('Model accuracy')\n",
        "plt.ylabel('Accuracy')\n",
        "plt.xlabel('Epochs')\n",
        "\n",
        "plt.legend(['train', 'validation'], loc='upper left')\n",
        "plt.grid()\n",
        "plt.show()\n",
        "\n",
        "plt.plot(loss, 'b-')\n",
        "plt.plot(val_loss, 'r-')\n",
        "plt.title('Model loss')\n",
        "plt.ylabel('loss')\n",
        "plt.xlabel('Epochs')\n",
        "\n",
        "plt.legend(['train', 'validation'], loc='upper left')\n",
        "plt.grid()\n",
        "plt.show()\n"
      ],
      "metadata": {
        "colab": {
          "base_uri": "https://localhost:8080/",
          "height": 573
        },
        "id": "mvHaw4v6HGu3",
        "outputId": "201d488f-412a-41cc-ef84-eda009337aa9"
      },
      "execution_count": null,
      "outputs": [
        {
          "output_type": "display_data",
          "data": {
            "text/plain": [
              "<Figure size 432x288 with 1 Axes>"
            ],
            "image/png": "[encoded data removed]"
          },
          "metadata": {
            "needs_background": "light"
          }
        },
        {
          "output_type": "display_data",
          "data": {
            "text/plain": [
              "<Figure size 432x288 with 1 Axes>"
            ],
            "image/png": "[encoded data removed]"
          },
          "metadata": {
            "needs_background": "light"
          }
        }
      ]
    },
    {
      "cell_type": "code",
      "source": [
        "max_acc_val = max(val_accuracy)\n",
        "print('Val_accuracy maxima:',round(max_acc_val, 2))\n",
        "\n",
        "max_acc_train = max(accuracy)\n",
        "print('Train_accuracy maxima:',round(max_acc_train,2))\n",
        "\n",
        "max_loss = max(val_loss)\n",
        "print('Val_loss maxima:',round(max_loss,2))"
      ],
      "metadata": {
        "colab": {
          "base_uri": "https://localhost:8080/"
        },
        "id": "uSOebX-XgXaU",
        "outputId": "a2edf193-47ea-4803-b266-af6ce2f32871"
      },
      "execution_count": null,
      "outputs": [
        {
          "output_type": "stream",
          "name": "stdout",
          "text": [
            "Val_accuracy maxima: 0.99\n",
            "Train_accuracy maxima: 1.0\n",
            "Val_loss maxima: 0.06\n"
          ]
        }
      ]
    },
    {
      "cell_type": "code",
      "source": [
        "from google.colab import drive\n",
        "drive.mount('/content/gdrive')"
      ],
      "metadata": {
        "colab": {
          "base_uri": "https://localhost:8080/"
        },
        "id": "_QtVbCyp8Cqa",
        "outputId": "60218230-49f1-4236-f3e0-ba50b133bda9"
      },
      "execution_count": null,
      "outputs": [
        {
          "output_type": "stream",
          "name": "stdout",
          "text": [
            "Mounted at /content/gdrive\n"
          ]
        }
      ]
    },
    {
      "cell_type": "code",
      "source": [
        "%cd '/content/gdrive/MyDrive/AtecneaYTB'"
      ],
      "metadata": {
        "colab": {
          "base_uri": "https://localhost:8080/"
        },
        "id": "LO_Orq2t8hrC",
        "outputId": "ac915175-b98d-4ab8-94d4-019c7613cdfd"
      },
      "execution_count": null,
      "outputs": [
        {
          "output_type": "stream",
          "name": "stdout",
          "text": [
            "/content/gdrive/MyDrive/AtecneaYTB\n"
          ]
        }
      ]
    },
    {
      "cell_type": "code",
      "source": [
        "!ls"
      ],
      "metadata": {
        "colab": {
          "base_uri": "https://localhost:8080/"
        },
        "id": "t3eRUc3N8m0j",
        "outputId": "cc55908f-28b5-4d05-fd4d-8331a07d7556"
      },
      "execution_count": null,
      "outputs": [
        {
          "output_type": "stream",
          "name": "stdout",
          "text": [
            " CNN_Keras_Con_Validacion.ipynb   modelo\n",
            " CNN_Keras.ipynb\t\t 'Prediccion modelos.ipynb'\n"
          ]
        }
      ]
    },
    {
      "cell_type": "code",
      "source": [
        "# Guardar modelo\n",
        "import os \n",
        "\n",
        "dir = '/content/gdrive/MyDrive/AtecneaYTB/modelo'\n",
        "\n",
        "if not os.path.exists(dir):\n",
        "  os.mkdir('modelo')\n",
        "\n",
        "model.save('/content/gdrive/MyDrive/AtecneaYTB/modelo/modelo_con_validacion.h5')\n",
        "model.save_weights('/content/gdrive/MyDrive/AtecneaYTB/modelo/pesos_con_validacion.h5')"
      ],
      "metadata": {
        "id": "f2DeBYbd9XOM"
      },
      "execution_count": null,
      "outputs": []
    },
    {
      "cell_type": "markdown",
      "source": [
        "import tensorflow-gpu si tienes una gpu en tu equipo"
      ],
      "metadata": {
        "id": "Y2_KJDvGWgi8"
      }
    },
    {
      "cell_type": "code",
      "source": [],
      "metadata": {
        "id": "AlZglWMBWgCY"
      },
      "execution_count": null,
      "outputs": []
    }
  ]
}